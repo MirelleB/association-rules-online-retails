{
 "cells": [
  {
   "cell_type": "code",
   "execution_count": 1,
   "metadata": {},
   "outputs": [
    {
     "name": "stdout",
     "output_type": "stream",
     "text": [
      "[[[frozenset({'PINK VINTAGE SPOT BEAKER'}), frozenset({'BLUE VINTAGE SPOT BEAKER'}), 0.8712121212121212, 97.97949002217295]], [[frozenset({'COFFEE MUG DOG + BALL DESIGN'}), frozenset({'COFFEE MUG CAT + BIRD DESIGN'}), 0.8531468531468531, 86.9361356875169]], [[frozenset({'DOLLY GIRL CHILDRENS BOWL'}), frozenset({'DOLLY GIRL CHILDRENS CUP'}), 0.8297872340425533, 106.28191489361703], [frozenset({'DOLLY GIRL CHILDRENS CUP'}), frozenset({'DOLLY GIRL CHILDRENS BOWL'}), 0.8125, 106.28191489361703]], [[frozenset({'DOLLY GIRL CHILDRENS BOWL'}), frozenset({'SPACEBOY CHILDRENS BOWL'}), 0.8368794326241136, 88.70921985815605]], [[frozenset({'PINK REGENCY TEACUP AND SAUCER'}), frozenset({'GREEN REGENCY TEACUP AND SAUCER'}), 0.8273381294964028, 22.083103415964764]], [[frozenset({'MONSTERS STENCIL CRAFT'}), frozenset({'HAPPY STENCIL CRAFT'}), 0.8105263157894738, 59.322807017543866]], [[frozenset({'HERB MARKER CHIVES'}), frozenset({'HERB MARKER BASIL'}), 0.8855421686746987, 86.87733914380928]], [[frozenset({'HERB MARKER BASIL'}), frozenset({'HERB MARKER MINT'}), 0.8936170212765958, 86.29252534254206], [frozenset({'HERB MARKER MINT'}), frozenset({'HERB MARKER BASIL'}), 0.8795811518324609, 86.29252534254208]], [[frozenset({'HERB MARKER BASIL'}), frozenset({'HERB MARKER PARSLEY'}), 0.9042553191489362, 89.18762088974856], [frozenset({'HERB MARKER PARSLEY'}), frozenset({'HERB MARKER BASIL'}), 0.9090909090909092, 89.18762088974856]], [[frozenset({'HERB MARKER BASIL'}), frozenset({'HERB MARKER ROSEMARY'}), 0.9148936170212766, 88.81209406494962], [frozenset({'HERB MARKER ROSEMARY'}), frozenset({'HERB MARKER BASIL'}), 0.9052631578947369, 88.81209406494962]], [[frozenset({'HERB MARKER BASIL'}), frozenset({'HERB MARKER THYME'}), 0.8989361702127661, 89.13967055593687], [frozenset({'HERB MARKER THYME'}), frozenset({'HERB MARKER BASIL'}), 0.9086021505376345, 89.13967055593687]], [[frozenset({'HERB MARKER CHIVES'}), frozenset({'HERB MARKER MINT'}), 0.927710843373494, 89.58481044597238], [frozenset({'HERB MARKER MINT'}), frozenset({'HERB MARKER CHIVES'}), 0.8062827225130891, 89.58481044597237]], [[frozenset({'HERB MARKER CHIVES'}), frozenset({'HERB MARKER PARSLEY'}), 0.9337349397590361, 92.09522582307841], [frozenset({'HERB MARKER PARSLEY'}), frozenset({'HERB MARKER CHIVES'}), 0.8288770053475937, 92.09522582307841]], [[frozenset({'HERB MARKER CHIVES'}), frozenset({'HERB MARKER ROSEMARY'}), 0.927710843373494, 90.0563094483196], [frozenset({'HERB MARKER ROSEMARY'}), frozenset({'HERB MARKER CHIVES'}), 0.8105263157894738, 90.0563094483196]], [[frozenset({'HERB MARKER CHIVES'}), frozenset({'HERB MARKER THYME'}), 0.927710843373494, 91.99300427516518], [frozenset({'HERB MARKER THYME'}), frozenset({'HERB MARKER CHIVES'}), 0.8279569892473119, 91.99300427516518]], [[frozenset({'HERB MARKER MINT'}), frozenset({'HERB MARKER PARSLEY'}), 0.8952879581151834, 88.30316095976707], [frozenset({'HERB MARKER PARSLEY'}), frozenset({'HERB MARKER MINT'}), 0.9144385026737968, 88.30316095976707]], [[frozenset({'HERB MARKER MINT'}), frozenset({'HERB MARKER ROSEMARY'}), 0.9057591623036649, 87.92537889225683], [frozenset({'HERB MARKER ROSEMARY'}), frozenset({'HERB MARKER MINT'}), 0.9105263157894737, 87.92537889225683]]]\n"
     ]
    }
   ],
   "source": [
    "import pandas as pd\n",
    "import numpy as np\n",
    "\n",
    "import seaborn as sns\n",
    "\n",
    "\n",
    "from mlxtend.frequent_patterns import apriori\n",
    "from mlxtend.frequent_patterns import association_rules\n",
    "\n",
    "\n",
    "dados = pd.read_csv('Online_Retail_3.csv',sep=';',encoding = \"utf-8\")\n",
    "\n",
    "#remove additional spaces\n",
    "retail_df['Description'] = retail_df['Description'].str.strip()\n",
    "#remove NA values\n",
    "retail_df.dropna(axis=0, subset=['InvoiceNo'], inplace=True)\n",
    "#remove cancelled orders\n",
    "retail_df['InvoiceNo'] = retail_df['InvoiceNo'].astype('str')\n",
    "retail_df = retail_df[~retail_df['InvoiceNo'].str.contains('C')]\n",
    "\n",
    "\n",
    "\n",
    "def encode_units(x):\n",
    "    if x <= 0:\n",
    "        return 0\n",
    "    if x >= 1:\n",
    "        return 1\n",
    "\n",
    "def create_basket(country_filter):\n",
    "    basket = (retail_df[retail_df['Country'] == country_filter]\n",
    "          .groupby(['InvoiceNo', 'Description'])['Quantity']\n",
    "          .sum().unstack().reset_index().fillna(0)\n",
    "          .set_index('InvoiceNo'))\n",
    "    return basket\n",
    "\n",
    "\n"
   ]
  },
  {
   "cell_type": "code",
   "execution_count": null,
   "metadata": {},
   "outputs": [],
   "source": []
  }
 ],
 "metadata": {
  "kernelspec": {
   "display_name": "Python 3",
   "language": "python",
   "name": "python3"
  },
  "language_info": {
   "codemirror_mode": {
    "name": "ipython",
    "version": 3
   },
   "file_extension": ".py",
   "mimetype": "text/x-python",
   "name": "python",
   "nbconvert_exporter": "python",
   "pygments_lexer": "ipython3",
   "version": "3.6.5"
  }
 },
 "nbformat": 4,
 "nbformat_minor": 2
}
